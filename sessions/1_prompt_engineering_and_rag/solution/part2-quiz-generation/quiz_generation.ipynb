{
 "cells": [
  {
   "cell_type": "markdown",
   "id": "5f4b2ff659593dfc",
   "metadata": {},
   "source": [
    "# Create an AI pipeline for quiz generation, using LangGraph\n",
    "\n",
    "One way to boost customer engagement in the news industry is with news quizzes. The quiz would ask questions about the articles the user recently read.\n",
    "\n",
    "In this hands-on exercise, we will implement a quiz generator. To achieve this, we will use generative AI, retrieval augmented generation, and the LangGraph library. \n",
    "\n",
    "Here is an overview for the AI pipeline:\n",
    "- The user specifies a **topic** of interest\n",
    "- Search for corresponding news articles in the **Reuters dataset**\n",
    "- The user selects 1 from the top-3 new articles\n",
    "- Generate quiz which will have well-defined format\n",
    "\n",
    "![AI pipeline](assets/ai_pipeline.png \"AI pipeline for quiz generation\")"
   ]
  },
  {
   "cell_type": "code",
   "execution_count": null,
   "id": "e722463062e67bf4",
   "metadata": {
    "jupyter": {
     "is_executing": true
    }
   },
   "outputs": [],
   "source": [
    "# Install necessary dependencies\n",
    "\n",
    "!pip install langchain\n",
    "!pip install langgraph\n",
    "!pip install langchain_huggingface"
   ]
  },
  {
   "cell_type": "code",
   "execution_count": null,
   "id": "a76421ffb2a0b9b6",
   "metadata": {},
   "outputs": [],
   "source": [
    "# Do all necessary imports\n",
    "\n",
    "from typing import List\n",
    "from typing_extensions import TypedDict\n",
    "from langchain_core.documents import Document\n",
    "from langchain_core.vectorstores import InMemoryVectorStore\n",
    "from langgraph.types import Command, interrupt\n",
    "from langgraph.graph import START, StateGraph, END\n",
    "from langgraph.checkpoint.memory import MemorySaver\n",
    "from langchain_huggingface import HuggingFaceEmbeddings\n",
    "from datasets import load_dataset\n",
    "import pandas as pd\n",
    "from google import genai\n",
    "from google.genai import types\n",
    "import os\n",
    "from dotenv import load_dotenv\n",
    "from pathlib import Path"
   ]
  },
  {
   "cell_type": "markdown",
   "id": "ddda35ad",
   "metadata": {},
   "source": [
    "## Setup LLM client for Google AI Studio\n",
    "\n",
    "<some description>"
   ]
  },
  {
   "cell_type": "markdown",
   "id": "34ba6a439e1d6d65",
   "metadata": {},
   "source": [
    "## Prepare LLM for answer generation\n",
    "\n",
    "We use [Unsloth](https://docs.unsloth.ai) for LLM inference. If you prefer to use an LLM API instead, feel free to adjust the Notebook accordingly. Note that other parts of this workshop will also use Unsloth. "
   ]
  },
  {
   "cell_type": "code",
   "execution_count": null,
   "id": "2a5f23925a2447dc",
   "metadata": {},
   "outputs": [],
   "source": [
    "# Prepare LLM client\n",
    "env_file_path = Path('../.env')\n",
    "load_dotenv(dotenv_path=env_file_path)\n",
    "google_llm_api_key = os.environ.get('GOOGLE_LLM_API_KEY')\n",
    "client = genai.Client(api_key=google_llm_api_key)"
   ]
  },
  {
   "cell_type": "code",
   "execution_count": null,
   "id": "d371046bff56f49e",
   "metadata": {},
   "outputs": [],
   "source": [
    "# Helper function for running LLM in autoregressive mode\n",
    "def llm_generate_response(user_message: str, system_message: str) -> str:\n",
    "\n",
    "    response = client.models.generate_content(\n",
    "        model=\"gemini-2.5-flash-preview-04-17\",\n",
    "        config=types.GenerateContentConfig(\n",
    "            system_instruction=system_message),\n",
    "        contents=user_message\n",
    "    )\n",
    "    return response.text"
   ]
  },
  {
   "cell_type": "markdown",
   "id": "91b8eb7abcc3381d",
   "metadata": {},
   "source": [
    "## Generate your first quiz\n",
    "\n",
    "To start off, we'll create our first quiz. For demo purposes, we'll use one hard-coded news article. The more important part is the LLM prompt. In the prompt, we give instructions for quiz generation. Moreover, we define the output format, which the LLM hopefully adheres to during quiz generation. "
   ]
  },
  {
   "cell_type": "code",
   "execution_count": null,
   "id": "ecdcc9ed9b6c63ea",
   "metadata": {},
   "outputs": [],
   "source": [
    "# Define a helper function for RAG (retrieval-augmented generation)\n",
    "def generate_quiz(news_article: str) -> str:\n",
    "    \"\"\"\n",
    "    :param news_article: The news article \n",
    "    :return: A quiz about the news article\n",
    "    \"\"\"\n",
    "    user_message = f\"Here is the news article: {news_article}\"\n",
    "    system_message = \"\"\"Please generate one multiple choice quiz for the provided news article.\n",
    "\n",
    "The quiz should have the following format:\n",
    "\n",
    "[Question]\n",
    "\n",
    "[Choice 1]\n",
    "[Choice 2]\n",
    "[Choice 3]\n",
    "\n",
    "[Solution]\n",
    "\"\"\"\n",
    "\n",
    "    return llm_generate_response(user_message, system_message)"
   ]
  },
  {
   "cell_type": "code",
   "execution_count": null,
   "id": "bb9183d70f3869b6",
   "metadata": {},
   "outputs": [],
   "source": [
    "# Create quiz\n",
    "news_article = \"U.S. Agriculture Secretary Richard Lyng said he would not agree to an extension of the 18-month whole dairy herd buyout program set to expire later this year. Speaking at the Agriculture Department to representatives of the U.S. National Cattlemen\\'s Association, Lyng said some dairymen asked the program be extended. But he said the Reagan administration, which opposed the whole herd buyout program in the 1985 farm bill, would not agree to an extension. The program begun in early 1986, is to be completed this summer. U.S. cattlemen bitterly opposed the scheme, complaining that increased dairy cow slaughter drove cattle prices down last year. Reuter\"\n",
    "# TODO: generate messages for LLM\n",
    "# Use the above defined function \"generate_quiz()\".\n",
    "quiz = generate_quiz(news_article)\n",
    "print(quiz)\n"
   ]
  },
  {
   "cell_type": "code",
   "execution_count": null,
   "id": "c9f86dad",
   "metadata": {},
   "outputs": [],
   "source": [
    "# TODO: Investigate the generated quiz. Does it have the desired scope and format?"
   ]
  },
  {
   "cell_type": "markdown",
   "id": "c85a0600b0c90371",
   "metadata": {},
   "source": [
    "## Prompt adjustments\n",
    "\n",
    "Next, we'll try to tweek the messages for the LLM."
   ]
  },
  {
   "cell_type": "code",
   "execution_count": null,
   "id": "f2db39bef365ffd",
   "metadata": {},
   "outputs": [],
   "source": [
    "# TODO: adjust prompt\n",
    "# Adjust the messages for the LLM, such that the generated quiz has 5 instead of 3 answers.\n",
    "def generate_quiz_5_options(news_article: str) -> str:\n",
    "    \"\"\"\n",
    "    :param news_article: The news article \n",
    "    :return: A quiz about the news article\n",
    "    \"\"\"\n",
    "    user_message = f\"Here is the news article: {news_article}\"\n",
    "    system_message = \"\"\"Please generate one multiple choice quiz for the provided news article.\n",
    "\n",
    "The quiz should have the following format:\n",
    "\n",
    "[Question]\n",
    "\n",
    "[Choice 1]\n",
    "[Choice 2]\n",
    "[Choice 3]\n",
    "[Choice 4]\n",
    "[Choice 5]\n",
    "\n",
    "[Solution]\n",
    "\"\"\"\n",
    "\n",
    "    return llm_generate_response(user_message, system_message)\n",
    "\n",
    "# TODO: re-query the LLM for quiz generation\n",
    "# Use the above defined function \"generate_quiz_5_options()\"\n",
    "quiz = generate_quiz_5_options(news_article)\n",
    "print(quiz)"
   ]
  },
  {
   "cell_type": "code",
   "execution_count": null,
   "id": "78d67718fd39aeb",
   "metadata": {},
   "outputs": [],
   "source": [
    "# TODO: Can you think of any other way to adjust quiz generation?\n",
    "# - Increase difficulty\n",
    "# - ... any other ideas?"
   ]
  },
  {
   "cell_type": "markdown",
   "id": "1ddfe1dceca25493",
   "metadata": {},
   "source": [
    "## Load Reuters dataset\n",
    "\n",
    "Throughout this notebook, we'll be using the [Reuters news dataset](https://huggingface.co/datasets/ucirvine/reuters21578) from Hugging Face.\n",
    "We download it below. This dataset contains short articles from Reuters' financial newswire service from 1987. "
   ]
  },
  {
   "cell_type": "code",
   "execution_count": null,
   "id": "94a44ec9bd1a3bae",
   "metadata": {},
   "outputs": [],
   "source": [
    "# Load dataset\n",
    "# - if asked to run custom code, type \"y\" for YES.\n",
    "reuters_ds = load_dataset('ucirvine/reuters21578','ModHayes')\n",
    "news_raw = reuters_ds[\"train\"].to_pandas()\n",
    "print(f\"Loaded {len(news_raw)} news articles.\")"
   ]
  },
  {
   "cell_type": "markdown",
   "id": "118e60c1c8169d06",
   "metadata": {},
   "source": [
    "## Preprocess news articles\n",
    "\n",
    "First we perform some preprocessing on the news data. We'll store all articles in a [pandas DataFrame](https://pandas.pydata.org/docs/reference/api/pandas.DataFrame.html). For each article, we keep the actual news text, plus the news title. On the resulting strings, we remove unwanted characters."
   ]
  },
  {
   "cell_type": "code",
   "execution_count": null,
   "id": "305fba345d5aa905",
   "metadata": {},
   "outputs": [],
   "source": [
    "# Merge title and text, drop unnecessary columns\n",
    "news_raw[\"title_and_text\"] = news_raw['title'] + ' | ' + news_raw['text']\n",
    "news = news_raw[[\"title_and_text\", \"date\", \"places\"]]"
   ]
  },
  {
   "cell_type": "code",
   "execution_count": null,
   "id": "7fbc942723a24187",
   "metadata": {},
   "outputs": [],
   "source": [
    "# Clean up text, remove unnecessary characters\n",
    "pd.options.mode.chained_assignment = None\n",
    "news[\"title_and_text\"] = news.apply(lambda x: x[\"title_and_text\"].replace(\"\\\\n\", \" \"), axis=1)\n",
    "news[\"title_and_text\"] = news.apply(lambda x: x[\"title_and_text\"].replace(\"\\\\\\\"\", \"\\\"\"), axis=1)\n",
    "news[\"title_and_text\"] = news.apply(lambda x: \" \".join(x[\"title_and_text\"].split()), axis=1)\n",
    "news.head()"
   ]
  },
  {
   "cell_type": "markdown",
   "id": "ecc7e44f22fbd204",
   "metadata": {},
   "source": [
    "## Create RAG database\n",
    "\n",
    "We want to support quiz generations for a user specified topic. For this reason, we create a vector store, where one can query news articles by topic."
   ]
  },
  {
   "cell_type": "code",
   "execution_count": null,
   "id": "5a3eac69e5af7e84",
   "metadata": {},
   "outputs": [],
   "source": [
    "# Setup RAG vector store\n",
    "# - This can take ~ 1 minute, give it some patience\n",
    "texts_to_encode = news['title_and_text'].to_list()\n",
    "embedder = HuggingFaceEmbeddings(\n",
    "    model_name = \"sentence-transformers/all-MiniLM-L6-v2\"\n",
    ")\n",
    "vectorstore = InMemoryVectorStore.from_texts(texts=texts_to_encode, embedding=embedder)"
   ]
  },
  {
   "cell_type": "code",
   "execution_count": null,
   "id": "3cf224b658d7bb43",
   "metadata": {},
   "outputs": [],
   "source": [
    "# Search articles about a given topic\n",
    "query = \"An article on agriculture\"\n",
    "k=3\n",
    "# TODO: use the vector store above to search for 3 news articles corresponding to \"agriculture\"\n",
    "# Hint: use InMemoryVectorStore's \"similarity_search()\" function\n",
    "result = vectorstore.similarity_search(query, k=k)\n",
    "print(result)\n"
   ]
  },
  {
   "cell_type": "code",
   "execution_count": null,
   "id": "3eaeb025",
   "metadata": {},
   "outputs": [],
   "source": [
    "# TODO: verify the articles are really about \"agriculture\""
   ]
  },
  {
   "cell_type": "code",
   "execution_count": null,
   "id": "bf6568628279da42",
   "metadata": {},
   "outputs": [],
   "source": [
    "# TODO: Check whether you can search for articles about \"coffee\"\n",
    "k=10\n",
    "query = \"An article about coffee\"\n",
    "result = vectorstore.similarity_search(query, k=k)\n",
    "print(result)"
   ]
  },
  {
   "cell_type": "markdown",
   "id": "26a878970cf65cfd",
   "metadata": {},
   "source": [
    "## Create AI pipeline with LangGraph\n",
    "\n",
    "We now create a graph for quiz generation. Note that the graph is deterministic and doesn't use tools.\n",
    "Since time is short, we provide all code for creating the graph. Checkout more about LangGraph in their [official documentation](https://langchain-ai.github.io/langgraph/tutorials/introduction/).\n",
    "Our graph leverages the following features:\n",
    "- Maintain a conversation state\n",
    "- Human in the loop"
   ]
  },
  {
   "cell_type": "code",
   "execution_count": null,
   "id": "e5598541addf00d0",
   "metadata": {},
   "outputs": [],
   "source": [
    "class State(TypedDict):\n",
    "    \"\"\"The state during graph traversal.\"\"\"\n",
    "    topic_from_user: str\n",
    "    relevant_articles_from_reuters: List[Document]\n",
    "    article_selected_by_user: Document\n",
    "    quiz_result: str\n",
    "\n",
    "def retrieve(state: State):\n",
    "    \"\"\"Search for news articles according to the topic selected by the user.\"\"\"\n",
    "    relevant_articles_from_reuters = vectorstore.similarity_search(state[\"topic_from_user\"], k=3)\n",
    "    return {\"relevant_articles_from_reuters\": relevant_articles_from_reuters}\n",
    "\n",
    "def human_feedback(state: State):\n",
    "    \"\"\"Let the user choose one article, on which the quiz will be based.\"\"\"\n",
    "    article_selection = interrupt(\"Let user choose article\")\n",
    "    article_selected_by_user=state[\"relevant_articles_from_reuters\"][int(article_selection)]\n",
    "    return {\"article_selected_by_user\": article_selected_by_user}\n",
    "\n",
    "def generate(state: State):\n",
    "    \"\"\"Generate a quiz.\"\"\"\n",
    "    news_article = state[\"article_selected_by_user\"].page_content\n",
    "    quiz_result = generate_quiz(news_article)\n",
    "    return {\"quiz_result\": quiz_result}\n",
    "\n",
    "# Build the graph with all nodes and edges\n",
    "builder = StateGraph(State)\n",
    "builder.add_node(\"retrieve\", retrieve)\n",
    "builder.add_node(\"human_feedback\", human_feedback)\n",
    "builder.add_node(\"generate\", generate)\n",
    "builder.add_edge(START, \"retrieve\")\n",
    "builder.add_edge(\"retrieve\", \"human_feedback\")\n",
    "builder.add_edge(\"human_feedback\", \"generate\")\n",
    "builder.add_edge(\"generate\", END)\n",
    "\n",
    "memory = MemorySaver()\n",
    "graph = builder.compile(checkpointer=memory)\n",
    "thread = {\"configurable\": {\"thread_id\": \"1\"}}"
   ]
  },
  {
   "cell_type": "markdown",
   "id": "8ef9012d1c786b66",
   "metadata": {},
   "source": [
    "## Run the graph\n",
    "\n",
    "We now run the AI pipeline to generate the quiz. Note this is interactive. The user first needs to select a topic, and later needs to choose an article from a list of proposals."
   ]
  },
  {
   "cell_type": "code",
   "execution_count": null,
   "id": "d5b39e98d03c7ae5",
   "metadata": {},
   "outputs": [],
   "source": [
    "# Run the graph from the start, until user selection step\n",
    "topic_from_user = input(\"Please select your topic: \")\n",
    "initial_state = {\"topic_from_user\": topic_from_user}\n",
    "for event in graph.stream(initial_state, thread, stream_mode=\"updates\"):\n",
    "    pass\n",
    "# Display article options\n",
    "relevant_articles_from_reuters=graph.get_state(config=thread).values['relevant_articles_from_reuters']\n",
    "print(\"Article candidates:\")\n",
    "for id, doc in enumerate(relevant_articles_from_reuters):\n",
    "    content = doc.page_content\n",
    "    print(f\"[{id}] {content}\")"
   ]
  },
  {
   "cell_type": "code",
   "execution_count": null,
   "id": "5ab038fa90b94cc0",
   "metadata": {},
   "outputs": [],
   "source": [
    "# TODO: have a look at the retrieved news articles, which one is most suitable for quiz generation?"
   ]
  },
  {
   "cell_type": "code",
   "execution_count": null,
   "id": "76a67528accf8327",
   "metadata": {},
   "outputs": [],
   "source": [
    "# Get human feedback\n",
    "article_selection = input(\"Please select which article you'd like to use [0,1,2]: \")\n",
    "\n",
    "# Continue the graph execution\n",
    "for event in graph.stream(\n",
    "        Command(resume=article_selection), thread, stream_mode=\"updates\"\n",
    "):\n",
    "    pass\n",
    "\n",
    "# Show final quiz\n",
    "quiz_result=graph.get_state(config=thread).values['quiz_result']\n",
    "print(quiz_result)"
   ]
  },
  {
   "cell_type": "code",
   "execution_count": null,
   "id": "678c2fbcd55eaab2",
   "metadata": {},
   "outputs": [],
   "source": [
    "# TODO: Review the quiz"
   ]
  },
  {
   "cell_type": "markdown",
   "id": "48b2d96b86fb7942",
   "metadata": {},
   "source": [
    "# Adjust AI pipeline"
   ]
  },
  {
   "cell_type": "code",
   "execution_count": null,
   "id": "c46274aca36e06a4",
   "metadata": {},
   "outputs": [],
   "source": [
    "# TODO: Make the quiz more entertaining. Here are some improvement ideas:\n",
    "# - Show the original news article above the quiz, when displaying the quiz to the user.\n",
    "# - The final output should include the year of the news article."
   ]
  }
 ],
 "metadata": {
  "kernelspec": {
   "display_name": ".venv",
   "language": "python",
   "name": "python3"
  },
  "language_info": {
   "codemirror_mode": {
    "name": "ipython",
    "version": 3
   },
   "file_extension": ".py",
   "mimetype": "text/x-python",
   "name": "python",
   "nbconvert_exporter": "python",
   "pygments_lexer": "ipython3",
   "version": "3.12.5"
  }
 },
 "nbformat": 4,
 "nbformat_minor": 5
}
